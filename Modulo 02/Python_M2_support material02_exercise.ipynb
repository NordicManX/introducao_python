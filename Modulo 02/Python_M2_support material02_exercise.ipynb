{
  "cells": [
    {
      "cell_type": "markdown",
      "metadata": {
        "id": "KJqp9AANOCtf"
      },
      "source": [
        "<img src=\"https://raw.githubusercontent.com/andre-marcos-perez/ebac-course-utils/main/media/logo/newebac_logo_black_half.png\" alt=\"ebac-logo\">\n",
        "\n",
        "---\n",
        "\n",
        "# **Módulo** | Python: Estruturas de Dados\n",
        "Caderno de **Exercícios**<br> \n",
        "Professor [André Perez](https://www.linkedin.com/in/andremarcosperez/)\n",
        "\n",
        "---"
      ]
    },
    {
      "cell_type": "markdown",
      "metadata": {
        "id": "d9jDtUbDOE1-"
      },
      "source": [
        "# **Tópicos**\n",
        "\n",
        "<ol type=\"1\">\n",
        "  <li>Listas;</li>\n",
        "  <li>Conjuntos;</li>\n",
        "  <li>Dicionários.</li>\n",
        "</ol>"
      ]
    },
    {
      "cell_type": "markdown",
      "metadata": {
        "id": "SmoHgt-lwkpD"
      },
      "source": [
        "---"
      ]
    },
    {
      "cell_type": "markdown",
      "metadata": {
        "id": "GABI6OW8OfQ2"
      },
      "source": [
        "# **Exercícios**"
      ]
    },
    {
      "cell_type": "markdown",
      "metadata": {
        "id": "muD1vxozykSC"
      },
      "source": [
        "## 1\\. Listas"
      ]
    },
    {
      "cell_type": "markdown",
      "metadata": {
        "id": "ahrFfCuBxJKs"
      },
      "source": [
        "Criei uma lista chamada `filmes` com o nome dos 10 primeiros filmes mais bem avaliados no site no [IMDB](https://www.imdb.com/chart/top/). Imprima o resultado."
      ]
    },
    {
      "cell_type": "code",
      "execution_count": 11,
      "metadata": {
        "id": "OgL6Hv3bzOHI"
      },
      "outputs": [
        {
          "name": "stdout",
          "output_type": "stream",
          "text": [
            "Os 10 primeiros filmes mais bem avaliados no IMDB são:\n",
            "###################################################\n",
            "Um sonho de Liberdade\n",
            "###################################################\n",
            "O poderoso Chefão\n",
            "###################################################\n",
            "Batman:  O Cavaleiro das Trevas\n",
            "###################################################\n",
            "O Poderoso Chefão II\n",
            "###################################################\n",
            "12 Homens e uma Sentença\n",
            "###################################################\n",
            "A Lista de Schindler\n",
            "###################################################\n",
            "O Senhor dos Anéis: O Retorno do Rei\n",
            "###################################################\n",
            "Pulp Fiction: Tempo de Violência\n",
            "###################################################\n",
            "O Senhor dos Anéis: A Sociedade do Anel\n",
            "###################################################\n",
            "Três Homens em Conflito\n",
            "###################################################\n"
          ]
        }
      ],
      "source": [
        "filmes = [\n",
        "\"Um sonho de Liberdade\",\n",
        "\"O poderoso Chefão\",\n",
        "\"Batman:  O Cavaleiro das Trevas\",\n",
        "\"O Poderoso Chefão II\", \n",
        "\"12 Homens e uma Sentença\",\n",
        "\"A Lista de Schindler\",\n",
        "\"O Senhor dos Anéis: O Retorno do Rei\",\n",
        "\"Pulp Fiction: Tempo de Violência\",\n",
        "\"O Senhor dos Anéis: A Sociedade do Anel\",\n",
        "\"Três Homens em Conflito\"\n",
        "]\n",
        "\n",
        "print(\"Os 10 primeiros filmes mais bem avaliados no IMDB são:\")\n",
        "print(\"###################################################\")\n",
        "for filme in filmes:\n",
        "    print(filme)\n",
        "    print(\"###################################################\")"
      ]
    },
    {
      "cell_type": "markdown",
      "metadata": {
        "id": "KI9zQRT2xa7m"
      },
      "source": [
        "Simule a movimentação do *ranking*. Utilize os métodos `insert` e `pop` para trocar a posição do primeiro e do segundo filme da lista. Imprima o resultado.\n",
        "\n"
      ]
    },
    {
      "cell_type": "code",
      "execution_count": 12,
      "metadata": {
        "id": "zX3mA3_GzrXH"
      },
      "outputs": [
        {
          "name": "stdout",
          "output_type": "stream",
          "text": [
            "Lista após a troca do primeiro e do segundo filme:\n",
            "###################################################\n",
            "O poderoso Chefão\n",
            "###################################################\n",
            "Um sonho de Liberdade\n",
            "###################################################\n",
            "Batman:  O Cavaleiro das Trevas\n",
            "###################################################\n",
            "O Poderoso Chefão II\n",
            "###################################################\n",
            "12 Homens e uma Sentença\n",
            "###################################################\n",
            "A Lista de Schindler\n",
            "###################################################\n",
            "O Senhor dos Anéis: O Retorno do Rei\n",
            "###################################################\n",
            "Pulp Fiction: Tempo de Violência\n",
            "###################################################\n",
            "O Senhor dos Anéis: A Sociedade do Anel\n",
            "###################################################\n",
            "Três Homens em Conflito\n",
            "###################################################\n"
          ]
        }
      ],
      "source": [
        "filme_primeiro = filmes.pop(0)  \n",
        "filmes.insert(1, filme_primeiro)  \n",
        "filme_segundo = filmes.pop(0)  \n",
        "filmes.insert(0, filme_segundo) \n",
        "\n",
        "print(\"Lista após a troca do primeiro e do segundo filme:\")\n",
        "print(\"###################################################\")\n",
        "for filme in filmes:\n",
        "    print(filme)\n",
        "    print(\"###################################################\")\n"
      ]
    },
    {
      "cell_type": "markdown",
      "metadata": {
        "id": "zMN1Q3jdwoJm"
      },
      "source": [
        "---"
      ]
    },
    {
      "cell_type": "markdown",
      "metadata": {
        "id": "lxa5L6uF0ZJE"
      },
      "source": [
        "## 2\\. Conjuntos"
      ]
    },
    {
      "cell_type": "markdown",
      "metadata": {
        "id": "9JahS2Kj0d5u"
      },
      "source": [
        "Aconteceu um erro no seu *ranking*. Simule a duplicação dos três últimos filmes da lista. Imprima o resultado."
      ]
    },
    {
      "cell_type": "code",
      "execution_count": 23,
      "metadata": {
        "id": "BnjnLBNC6PGe"
      },
      "outputs": [
        {
          "name": "stdout",
          "output_type": "stream",
          "text": [
            "Lista duplicada dos três últimos filmes:\n",
            "###################################################\n",
            "O poderoso Chefão\n",
            "###################################################\n",
            "Um sonho de Liberdade\n",
            "###################################################\n",
            "Batman:  O Cavaleiro das Trevas\n",
            "###################################################\n",
            "O Poderoso Chefão II\n",
            "###################################################\n",
            "12 Homens e uma Sentença\n",
            "###################################################\n",
            "A Lista de Schindler\n",
            "###################################################\n",
            "O Senhor dos Anéis: O Retorno do Rei\n",
            "###################################################\n",
            "Pulp Fiction: Tempo de Violência\n",
            "###################################################\n",
            "O Senhor dos Anéis: A Sociedade do Anel\n",
            "###################################################\n",
            "Três Homens em Conflito\n",
            "###################################################\n",
            "Pulp Fiction: Tempo de Violência\n",
            "###################################################\n",
            "O Senhor dos Anéis: A Sociedade do Anel\n",
            "###################################################\n",
            "Três Homens em Conflito\n",
            "###################################################\n",
            "Pulp Fiction: Tempo de Violência\n",
            "###################################################\n",
            "O Senhor dos Anéis: A Sociedade do Anel\n",
            "###################################################\n",
            "Três Homens em Conflito\n",
            "###################################################\n",
            "Pulp Fiction: Tempo de Violência\n",
            "###################################################\n",
            "O Senhor dos Anéis: A Sociedade do Anel\n",
            "###################################################\n",
            "Três Homens em Conflito\n",
            "###################################################\n",
            "Pulp Fiction: Tempo de Violência\n",
            "###################################################\n",
            "O Senhor dos Anéis: A Sociedade do Anel\n",
            "###################################################\n",
            "Três Homens em Conflito\n",
            "###################################################\n",
            "Pulp Fiction: Tempo de Violência\n",
            "###################################################\n"
          ]
        }
      ],
      "source": [
        "filmes.append(filmes[-3])  \n",
        "filmes.append(filmes[-3])  \n",
        "filmes.append(filmes[-3])  \n",
        "\n",
        "\n",
        "print(\"Lista duplicada dos três últimos filmes:\")\n",
        "print(\"###################################################\")\n",
        "for filme in filmes:\n",
        "    print(filme)\n",
        "    print(\"###################################################\")\n"
      ]
    },
    {
      "cell_type": "markdown",
      "metadata": {
        "id": "suxTfCJB6ZiX"
      },
      "source": [
        "Utiliza a conversão `set` e `list` para remover os valores duplicados. Imprima o resultado. "
      ]
    },
    {
      "cell_type": "code",
      "execution_count": 24,
      "metadata": {
        "id": "ZvUGN-0n6joM"
      },
      "outputs": [
        {
          "name": "stdout",
          "output_type": "stream",
          "text": [
            "Lista após a remoção dos filmes duplicados:\n",
            "###################################################\n",
            "O poderoso Chefão\n",
            "###################################################\n",
            "Um sonho de Liberdade\n",
            "###################################################\n",
            "Batman:  O Cavaleiro das Trevas\n",
            "###################################################\n",
            "O Poderoso Chefão II\n",
            "###################################################\n",
            "12 Homens e uma Sentença\n",
            "###################################################\n",
            "A Lista de Schindler\n",
            "###################################################\n",
            "O Senhor dos Anéis: O Retorno do Rei\n",
            "###################################################\n",
            "Pulp Fiction: Tempo de Violência\n",
            "###################################################\n",
            "O Senhor dos Anéis: A Sociedade do Anel\n",
            "###################################################\n",
            "Três Homens em Conflito\n",
            "###################################################\n"
          ]
        }
      ],
      "source": [
        "filmes_IMDB = []\n",
        "for filme in filmes:\n",
        "    if filme not in filmes_IMDB:\n",
        "        filmes_IMDB.append(filme)\n",
        "\n",
        "# Imprimindo o resultado após a remoção de duplicatas\n",
        "print(\"Lista após a remoção dos filmes duplicados:\")\n",
        "print(\"###################################################\")\n",
        "for filme in filmes_IMDB:\n",
        "    print(filme)\n",
        "    print(\"###################################################\")\n"
      ]
    },
    {
      "cell_type": "markdown",
      "metadata": {
        "id": "ShkK35eQ6pAM"
      },
      "source": [
        "---"
      ]
    },
    {
      "cell_type": "markdown",
      "metadata": {
        "id": "EL_FzmxL6rTv"
      },
      "source": [
        "## 3\\. Dicionários"
      ]
    },
    {
      "cell_type": "markdown",
      "metadata": {
        "id": "i8l0gFqRCpfT"
      },
      "source": [
        "Repita os exercícios da parte 1 (listas). Os elementos da lista `filmes` devem ser dicionários no seguinte formato: `{'nome': <nome-do-filme>, 'ano': <ano do filme>}, 'sinopse': <sinopse do filme>}`. "
      ]
    },
    {
      "cell_type": "code",
      "execution_count": 40,
      "metadata": {
        "id": "tu6MSFwGDnHv"
      },
      "outputs": [
        {
          "name": "stdout",
          "output_type": "stream",
          "text": [
            "{'Um sonho de Liberdade': {'nome': 'Um sonho de Liberdade', 'ano': 1994, 'sinopse': 'Dois homens presos se reúnem ao longo de vários anos, encontrando consolo e eventual redenção através de atos de decência comum.'}, 'O poderoso Chefão': {'nome': 'O poderoso Chefão', 'ano': 1972, 'sinpose': 'O patriarca idoso de uma dinastia do crime organizado transfere o controle de seu império clandestino para seu filho relutante.'}, 'Batman:  O Cavaleiro das Trevas': {'nome': 'Batman:  O Cavaleiro das Trevas', 'ano': 2008, 'sinopse': 'Agora com a ajuda do tenente Jim Gordon e do promotor público Harvey Dent, Batman tem tudo para banir o crime de Gotham City de uma vez por todas. Mas em breve, os três serão vítimas do Coringa, que pretende lançar Gotham em uma anarquia.'}, 'O Poderoso Chefão II': {'nome': 'O Poderoso Chefão II', 'ano': 1974, 'sinopse': 'O patriarca idoso de uma dinastia do crime organizado transfere o controle de seu império clandestino para seu filho relutante.'}, '12 Homens e uma Sentença': {'nome': '12 Homens e uma Sentença', 'ano': 1957, 'sinopse': 'O julgamento de um assassinato em Nova Iorque é frustrado por um único membro, cujo ceticismo força o júri a considerar cuidadosamente as evidências antes de dar o veredito.'}, 'A Lista de Schindler': {'nome': 'A Lista de Schindler', 'ano': 1993, 'sinopse': 'Na Polônia ocupada pelos alemães durante a Segunda Guerra Mundial, o industrial Oskar Schindler começa a ser preocupar com seus trabalhadores judeus depois de testemunhar sua perseguição pelos nazistas.'}, 'O Senhor dos Anéis: O Retorno do Rei': {'nome': 'O Senhor dos Anéis: O Retorno do Rei', 'ano': 2003, 'sinopse': 'Gandalf e Aragorn lideram o Mundo dos Homens contra o exército de Sauron para desviar o olhar de Frodo e Sam quando eles se aproximam á Montanha da Perdição com o Um Anel.'}, 'Pulp Fiction: Tempo de Violência': {'nome': 'Pulp Fiction: Tempo de Violência', 'ano': 1994, 'sinopse': 'As vidas de dois assassinos da máfia, um boxeador, um gângster e sua esposa, e um par de bandidos se entrelaçam em quatro histórias de violência e redenção.'}, 'O Senhor dos Anéis: A Sociedade do Anel': {'nome': 'O Senhor dos Anéis: A Sociedade do Anel', 'ano': 2001, 'sinopse': 'Um manso hobbit do Condado e oito companheiros partem em uma jornada para destruir o poderoso Um Anel e salvar a Terra-média das Trevas.'}, 'Três Homens em Conflito': {'nome': 'Três Homens em Conflito', 'ano': 1966, 'sinopse': 'Um impostor se junta com dois homens para encontrar fortuna num remoto cemitério.'}}\n"
          ]
        }
      ],
      "source": [
        "filmes = {\n",
        "    \"Um sonho de Liberdade\": {\n",
        "        \"nome\": \"Um sonho de Liberdade\", \n",
        "        \"ano\": 1994, \n",
        "        \"sinopse\": \"Dois homens presos se reúnem ao longo de vários anos, encontrando consolo e eventual redenção através de atos de decência comum.\"},\n",
        "        \"O poderoso Chefão\": {\n",
        "            \"nome\": \"O poderoso Chefão\", \n",
        "            \"ano\": 1972, \n",
        "            \"sinpose\": \"O patriarca idoso de uma dinastia do crime organizado transfere o controle de seu império clandestino para seu filho relutante.\"},\n",
        "\n",
        "\"Batman:  O Cavaleiro das Trevas\": {\n",
        "    \"nome\": \"Batman:  O Cavaleiro das Trevas\", \n",
        "    \"ano\": 2008, \n",
        "    \"sinopse\": \"Agora com a ajuda do tenente Jim Gordon e do promotor público Harvey Dent, Batman tem tudo para banir o crime de Gotham City de uma vez por todas. Mas em breve, os três serão vítimas do Coringa, que pretende lançar Gotham em uma anarquia.\"},\n",
        "\n",
        "\"O Poderoso Chefão II\": {\n",
        "    \"nome\": \"O Poderoso Chefão II\", \n",
        "    \"ano\": 1974, \n",
        "    \"sinopse\": \"O patriarca idoso de uma dinastia do crime organizado transfere o controle de seu império clandestino para seu filho relutante.\"}, \n",
        "\n",
        "\"12 Homens e uma Sentença\": {\n",
        "    \"nome\": \"12 Homens e uma Sentença\", \n",
        "    \"ano\": 1957, \n",
        "    \"sinopse\": \"O julgamento de um assassinato em Nova Iorque é frustrado por um único membro, cujo ceticismo força o júri a considerar cuidadosamente as evidências antes de dar o veredito.\"},\n",
        "\n",
        "\"A Lista de Schindler\": {\n",
        "    \"nome\": \"A Lista de Schindler\", \n",
        "    \"ano\": 1993, \n",
        "    \"sinopse\": \"Na Polônia ocupada pelos alemães durante a Segunda Guerra Mundial, o industrial Oskar Schindler começa a ser preocupar com seus trabalhadores judeus depois de testemunhar sua perseguição pelos nazistas.\"},\n",
        "\n",
        "\"O Senhor dos Anéis: O Retorno do Rei\": {\n",
        "    \"nome\": \"O Senhor dos Anéis: O Retorno do Rei\", \n",
        "    \"ano\": 2003, \n",
        "    \"sinopse\": \"Gandalf e Aragorn lideram o Mundo dos Homens contra o exército de Sauron para desviar o olhar de Frodo e Sam quando eles se aproximam á Montanha da Perdição com o Um Anel.\"},\n",
        "\n",
        "\"Pulp Fiction: Tempo de Violência\": {\n",
        "    \"nome\": \"Pulp Fiction: Tempo de Violência\", \n",
        "    \"ano\": 1994, \n",
        "    \"sinopse\": \"As vidas de dois assassinos da máfia, um boxeador, um gângster e sua esposa, e um par de bandidos se entrelaçam em quatro histórias de violência e redenção.\"},\n",
        "\n",
        "\"O Senhor dos Anéis: A Sociedade do Anel\": {\n",
        "    \"nome\": \"O Senhor dos Anéis: A Sociedade do Anel\", \n",
        "    \"ano\": 2001, \n",
        "    \"sinopse\": \"Um manso hobbit do Condado e oito companheiros partem em uma jornada para destruir o poderoso Um Anel e salvar a Terra-média das Trevas.\"},\n",
        "\n",
        "\"Três Homens em Conflito\": {\n",
        "    \"nome\": \"Três Homens em Conflito\", \n",
        "    \"ano\": 1966, \n",
        "    \"sinopse\": \"Um impostor se junta com dois homens para encontrar fortuna num remoto cemitério.\"}\n",
        "}\n",
        "print(filmes)\n",
        "\n"
      ]
    }
  ],
  "metadata": {
    "colab": {
      "collapsed_sections": [],
      "name": "module_2_exercise.ipynb",
      "provenance": [],
      "toc_visible": true
    },
    "kernelspec": {
      "display_name": "Python 3",
      "name": "python3"
    },
    "language_info": {
      "codemirror_mode": {
        "name": "ipython",
        "version": 3
      },
      "file_extension": ".py",
      "mimetype": "text/x-python",
      "name": "python",
      "nbconvert_exporter": "python",
      "pygments_lexer": "ipython3",
      "version": "3.12.3"
    }
  },
  "nbformat": 4,
  "nbformat_minor": 0
}
